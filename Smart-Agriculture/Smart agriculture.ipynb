{
  "nbformat": 4,
  "nbformat_minor": 0,
  "metadata": {
    "colab": {
      "name": "Untitled1.ipynb",
      "provenance": [],
      "collapsed_sections": []
    },
    "kernelspec": {
      "name": "python3",
      "display_name": "Python 3"
    }
  },
  "cells": [
    {
      "cell_type": "code",
      "metadata": {
        "colab": {
          "base_uri": "https://localhost:8080/"
        },
        "id": "I7otS-YRPYkw",
        "outputId": "c6e767b0-50e2-4a60-ec04-ca10e087a3e0"
      },
      "source": [
        "import xgboost as xgb\r\n",
        "\r\n",
        "!wget http://yun.iottalk.tw/riceblast/train_14d.csv\r\n",
        "!wget http://yun.iottalk.tw/riceblast/test_14d.csv\r\n",
        "import numpy as np\r\n",
        "import pandas as pd\r\n",
        "def read_data(file_name):\r\n",
        "    days = 14\r\n",
        "    feature = 11\r\n",
        "    data = pd.read_csv(file_name).dropna(axis=0)\r\n",
        "    x = np.array(data.iloc[:,2:days*feature+2].values,dtype=np.float32)\r\n",
        "    x = x.reshape((-1, days, feature))\r\n",
        "    z = np.array(data.iloc[:,days*feature+2:].values,dtype=np.float32)\r\n",
        "    y = np.array(data['label'].values,dtype=np.float32)\r\n",
        "    return x, y, z\r\n",
        "train_x, train_y, _ = read_data('train_14d.csv')\r\n",
        "train_x"
      ],
      "execution_count": null,
      "outputs": [
        {
          "output_type": "stream",
          "text": [
            "--2021-01-06 02:06:40--  http://yun.iottalk.tw/riceblast/train_14d.csv\n",
            "Resolving yun.iottalk.tw (yun.iottalk.tw)... 140.113.60.21\n",
            "Connecting to yun.iottalk.tw (yun.iottalk.tw)|140.113.60.21|:80... connected.\n",
            "HTTP request sent, awaiting response... 200 OK\n",
            "Length: 7841897 (7.5M) [application/octet-stream]\n",
            "Saving to: ‘train_14d.csv.1’\n",
            "\n",
            "train_14d.csv.1     100%[===================>]   7.48M  5.90MB/s    in 1.3s    \n",
            "\n",
            "2021-01-06 02:06:42 (5.90 MB/s) - ‘train_14d.csv.1’ saved [7841897/7841897]\n",
            "\n",
            "--2021-01-06 02:06:42--  http://yun.iottalk.tw/riceblast/test_14d.csv\n",
            "Resolving yun.iottalk.tw (yun.iottalk.tw)... 140.113.60.21\n",
            "Connecting to yun.iottalk.tw (yun.iottalk.tw)|140.113.60.21|:80... connected.\n",
            "HTTP request sent, awaiting response... 200 OK\n",
            "Length: 3918763 (3.7M) [application/octet-stream]\n",
            "Saving to: ‘test_14d.csv.1’\n",
            "\n",
            "test_14d.csv.1      100%[===================>]   3.74M  3.37MB/s    in 1.1s    \n",
            "\n",
            "2021-01-06 02:06:44 (3.37 MB/s) - ‘test_14d.csv.1’ saved [3918763/3918763]\n",
            "\n"
          ],
          "name": "stdout"
        },
        {
          "output_type": "execute_result",
          "data": {
            "text/plain": [
              "array([[[-1.3652898 , -0.923222  , -1.3395431 , ..., -0.307268  ,\n",
              "          0.4896744 , -1.0253993 ],\n",
              "        [-1.2245814 , -0.79633576, -1.1721764 , ..., -0.307268  ,\n",
              "         -0.31425488, -0.8775274 ],\n",
              "        [-1.1208977 , -0.76705223, -1.0921284 , ..., -0.307268  ,\n",
              "          0.22169754, -0.7296568 ],\n",
              "        ...,\n",
              "        [-1.6615237 , -1.030589  , -1.768879  , ..., -0.27464586,\n",
              "          0.9586337 ,  0.23150806],\n",
              "        [-1.3875109 , -0.9037027 , -1.3613727 , ...,  3.052812  ,\n",
              "          0.08770944, -0.5078489 ],\n",
              "        [-1.246798  , -0.83049834, -1.1794515 , ...,  0.6061518 ,\n",
              "         -1.8886168 ,  0.3793786 ]],\n",
              "\n",
              "       [[ 0.69353503,  0.42861816,  0.7343594 , ...,  0.11681978,\n",
              "         -1.3526638 , -0.06423445],\n",
              "        [ 0.7453769 ,  0.44813752,  0.7707436 , ..., -0.307268  ,\n",
              "         -1.0176926 , -0.13817184],\n",
              "        [ 0.6565058 ,  0.40421674,  0.7125297 , ...,  0.41041902,\n",
              "         -1.4196576 , -0.2860424 ],\n",
              "        ...,\n",
              "        [ 0.7009391 ,  0.47253895,  0.58154726, ..., -0.307268  ,\n",
              "         -0.2472605 , -0.2121064 ],\n",
              "        [ 0.7453769 ,  0.47742105,  0.71980476, ..., -0.307268  ,\n",
              "         -1.1516813 , -0.43391433],\n",
              "        [ 0.5528221 ,  0.32613033,  0.57426775, ..., -0.1441573 ,\n",
              "         -1.3861604 , -0.43391433]],\n",
              "\n",
              "       [[ 0.5306055 ,  0.3407706 ,  0.50877875, ..., -0.307268  ,\n",
              "         -0.01278148,  0.15757208],\n",
              "        [ 0.49357626,  0.33589152,  0.44328532, ..., -0.307268  ,\n",
              "          0.4896744 ,  0.5272505 ],\n",
              "        [ 0.35286334,  0.21388432,  0.35596222, ..., -0.307268  ,\n",
              "         -0.5822311 , -0.5078489 ],\n",
              "        ...,\n",
              "        [ 0.19734234,  0.11139949,  0.21042521, ..., -0.307268  ,\n",
              "          0.2886919 , -0.6557209 ],\n",
              "        [ 0.06403797,  0.04795337, -0.01515538, ..., -0.307268  ,\n",
              "         -0.01278148, -0.7296568 ],\n",
              "        [ 0.01219613, -0.03013004, -0.01515538, ..., -0.1441573 ,\n",
              "          0.35568628,  0.52724916]],\n",
              "\n",
              "       ...,\n",
              "\n",
              "       [[ 0.44914296,  0.3749332 ,  0.34140763, ...,  2.3677473 ,\n",
              "          0.7911484 , -0.6557209 ],\n",
              "        [ 0.8342435 ,  0.589667  ,  0.7270843 , ...,  0.70401824,\n",
              "         -1.2186754 ,  3.2628706 ],\n",
              "        [ 0.997173  ,  0.6091864 ,  1.0181583 , ..., -0.27464586,\n",
              "         -0.71621984, -0.8775288 ],\n",
              "        ...,\n",
              "        [ 0.76759356,  0.4627778 ,  0.81440294, ..., -0.307268  ,\n",
              "         -0.24726114, -1.0253993 ],\n",
              "        [ 0.7527809 ,  0.44813752,  0.7707436 , ..., -0.307268  ,\n",
              "         -0.6492255 , -0.43391433],\n",
              "        [ 0.6861265 ,  0.42861816,  0.7125297 , ..., -0.307268  ,\n",
              "          0.3221891 , -0.06423445]],\n",
              "\n",
              "       [[-2.4465463 , -1.6357458 , -2.416516  , ...,  0.14944191,\n",
              "         -0.34775206, -0.43391433],\n",
              "        [-2.4909797 , -1.645504  , -2.4237957 , ..., -0.07891303,\n",
              "         -1.0176932 , -0.8035928 ],\n",
              "        [-2.409517  , -1.6406249 , -2.351027  , ..., -0.0462909 ,\n",
              "         -1.5536456 , -0.95146334],\n",
              "        ...,\n",
              "        [-2.498388  , -1.6601472 , -2.4820096 , ..., -0.307268  ,\n",
              "          0.25519538, -0.95146334],\n",
              "        [-2.4835756 , -1.699189  , -2.3946865 , ..., -0.307268  ,\n",
              "          0.18820035, -0.6557209 ],\n",
              "        [-2.802026  , -1.762632  , -2.7366993 , ..., -0.307268  ,\n",
              "          1.4275924 , -0.35997695]],\n",
              "\n",
              "       [[-0.37290886, -0.26438323, -0.3935525 , ...,  0.01895337,\n",
              "         -1.7881253 ,  2.227771  ],\n",
              "        [-0.6987635 , -0.3522278 , -0.80105436, ...,  2.10677   ,\n",
              "         -1.4196578 , -0.2860424 ],\n",
              "        [-0.7950431 , -0.52791995, -0.80105436, ..., -0.24202372,\n",
              "         -1.3191667 , -1.0253993 ],\n",
              "        ...,\n",
              "        [-0.5506465 , -0.38151133, -0.5681987 , ...,  0.01895337,\n",
              "         -1.2521722 , -0.43391433],\n",
              "        [-0.84688044, -0.57184076, -0.8228885 , ..., -0.307268  ,\n",
              "          0.8916387 ,  1.4144795 ],\n",
              "        [-0.9357515 , -0.6548062 , -0.87382287, ..., -0.307268  ,\n",
              "         -0.07977521, -0.5078503 ]]], dtype=float32)"
            ]
          },
          "metadata": {
            "tags": []
          },
          "execution_count": 6
        }
      ]
    },
    {
      "cell_type": "code",
      "metadata": {
        "colab": {
          "base_uri": "https://localhost:8080/"
        },
        "id": "fL4kzuT0PvJN",
        "outputId": "cafa2e19-8380-45c6-95fe-eef3b6f660bd"
      },
      "source": [
        "from xgboost import XGBClassifier \r\n",
        "xgbc = XGBClassifier(max_depth = 13,min_child_weight = 10,reg_lambda = 1,)\r\n",
        "import numpy\r\n",
        "\r\n",
        "\r\n",
        "train = pd.read_csv('train_14d.csv')\r\n",
        "test = pd.read_csv('test_14d.csv')\r\n",
        "#test_x, test_y, _ = read_data('test_14d.csv')\r\n",
        "\r\n",
        "train_x = train[['StnPres','StnPresMax','StnPresMin','Temperature','T Max','T Min','RH','RHMin','Precp','Tc','T cd']]\r\n",
        "train_y = train[['label']] \r\n",
        "test_x = test[['StnPres','StnPresMax','StnPresMin','Temperature','T Max','T Min','RH','RHMin','Precp','Tc','T cd']]\r\n",
        "test_y = test[['label']] \r\n",
        "#print('sample =', train_x)\r\n",
        "#print('label =',  train_y)\r\n",
        "xgbc.fit(train_x,train_y)\r\n",
        "print('Accuracy:',xgbc.score(test_x,test_y))"
      ],
      "execution_count": null,
      "outputs": [
        {
          "output_type": "stream",
          "text": [
            "/usr/local/lib/python3.6/dist-packages/sklearn/preprocessing/_label.py:235: DataConversionWarning: A column-vector y was passed when a 1d array was expected. Please change the shape of y to (n_samples, ), for example using ravel().\n",
            "  y = column_or_1d(y, warn=True)\n",
            "/usr/local/lib/python3.6/dist-packages/sklearn/preprocessing/_label.py:268: DataConversionWarning: A column-vector y was passed when a 1d array was expected. Please change the shape of y to (n_samples, ), for example using ravel().\n",
            "  y = column_or_1d(y, warn=True)\n"
          ],
          "name": "stderr"
        },
        {
          "output_type": "stream",
          "text": [
            "Accuracy: 0.7227387996618766\n"
          ],
          "name": "stdout"
        }
      ]
    }
  ]
}